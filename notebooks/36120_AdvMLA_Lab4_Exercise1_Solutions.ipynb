{
  "cells": [
    {
      "cell_type": "markdown",
      "metadata": {
        "id": "uQ6wc2HE0pke"
      },
      "source": [
        "# **Lab: Model Serving**\n",
        "\n"
      ]
    },
    {
      "cell_type": "markdown",
      "metadata": {
        "id": "tQgxLRrvjiJb"
      },
      "source": [
        "## Exercise 1: EDA and Baseline Model\n",
        "\n",
        "In this exercise we will start our data science project by preparing the dataset for modeling.\n",
        "\n",
        "The steps are:\n",
        "1.   Setup Environment\n",
        "2.   Load and explore dataset\n",
        "3.   Prepare Data\n",
        "4.   Split Dataset\n",
        "5.   Get Baseline model\n",
        "6.   Train SGD\n",
        "7.   Push changes\n"
      ]
    },
    {
      "cell_type": "markdown",
      "metadata": {
        "id": "smh_LhVjIg9s"
      },
      "source": [
        "### 1. Setup Environment"
      ]
    },
    {
      "cell_type": "markdown",
      "metadata": {
        "id": "_fTLEcebNjhz"
      },
      "source": [
        "**[1.1]** Go to a folder of your choice on your computer (where you store projects)"
      ]
    },
    {
      "cell_type": "code",
      "execution_count": null,
      "metadata": {
        "id": "Pe-loIVTNjqW"
      },
      "outputs": [],
      "source": [
        "# Placeholder for student's code (command line)"
      ]
    },
    {
      "cell_type": "code",
      "execution_count": null,
      "metadata": {
        "id": "4dL8A5y-NjtY"
      },
      "outputs": [],
      "source": [
        "# Solution:\n",
        "cd /Users/anthonyso/Projects/adv_mla_2023/"
      ]
    },
    {
      "cell_type": "markdown",
      "metadata": {
        "id": "EHQBJUHEQqcs"
      },
      "source": [
        "**[1.2]** Copy the cookiecutter data science template"
      ]
    },
    {
      "cell_type": "code",
      "execution_count": null,
      "metadata": {
        "id": "bM-1oZYxQqmO"
      },
      "outputs": [],
      "source": [
        "# Placeholder for student's code (command line)"
      ]
    },
    {
      "cell_type": "code",
      "execution_count": null,
      "metadata": {
        "id": "TbseMHf7Qqo2"
      },
      "outputs": [],
      "source": [
        "# Solution:\n",
        "cookiecutter https://github.com/drivendata/cookiecutter-data-science"
      ]
    },
    {
      "cell_type": "markdown",
      "metadata": {
        "id": "scwewLhrRB_y"
      },
      "source": [
        "Follow the prompt (name the project and repo adv_mla_lab_4)"
      ]
    },
    {
      "cell_type": "markdown",
      "metadata": {
        "id": "elPnd9JPQwkD"
      },
      "source": [
        "**[1.3]** Go inside the created folder `adv_mla_lab_4`\n"
      ]
    },
    {
      "cell_type": "code",
      "execution_count": null,
      "metadata": {
        "id": "5VlHqFVqQwuC"
      },
      "outputs": [],
      "source": [
        "# Placeholder for student's code (command line)"
      ]
    },
    {
      "cell_type": "code",
      "execution_count": null,
      "metadata": {
        "id": "df9ydWQNQww0"
      },
      "outputs": [],
      "source": [
        "# Solution:\n",
        "cd adv_mla_lab_4"
      ]
    },
    {
      "cell_type": "markdown",
      "metadata": {
        "id": "gwC9GRvsTvOJ"
      },
      "source": [
        "**[1.4]** Initialise the repo"
      ]
    },
    {
      "cell_type": "code",
      "execution_count": null,
      "metadata": {
        "id": "JhEu_qxm-n44"
      },
      "outputs": [],
      "source": [
        "# Placeholder for student's code (command line)"
      ]
    },
    {
      "cell_type": "code",
      "execution_count": null,
      "metadata": {
        "id": "tBlpvOyYTvYm"
      },
      "outputs": [],
      "source": [
        "# Solution:\n",
        "git init"
      ]
    },
    {
      "cell_type": "markdown",
      "metadata": {
        "id": "hGw8ot1UdHqg"
      },
      "source": [
        "**[1.5]** Login into Github with your account (https://github.com/) and create a public repo with the name `adv_mla_lab_4`"
      ]
    },
    {
      "cell_type": "markdown",
      "metadata": {
        "id": "jD4H0EtCdDFr"
      },
      "source": [
        "**[1.6]** In your local repo `adv_mla_lab_4`, link it with Github (replace the url with your username)"
      ]
    },
    {
      "cell_type": "code",
      "execution_count": null,
      "metadata": {
        "id": "_3fCS9HtdDNw"
      },
      "outputs": [],
      "source": [
        "# Placeholder for student's code (command line)"
      ]
    },
    {
      "cell_type": "code",
      "execution_count": null,
      "metadata": {
        "id": "lpxHoo3SdDQo"
      },
      "outputs": [],
      "source": [
        "# Solution:\n",
        "git remote add origin git@github.com:<username>/adv_mla_lab_4"
      ]
    },
    {
      "cell_type": "markdown",
      "metadata": {
        "id": "P7KRLjcRn2d4"
      },
      "source": [
        "**[1.7]** Set the python version to 3.9.13 with pyenv"
      ]
    },
    {
      "cell_type": "code",
      "execution_count": null,
      "metadata": {
        "id": "xBNTTx7UAVCV"
      },
      "outputs": [],
      "source": [
        "# Placeholder for student's code (command line)"
      ]
    },
    {
      "cell_type": "code",
      "execution_count": null,
      "metadata": {
        "id": "hsv0dkk1n7Bg"
      },
      "outputs": [],
      "source": [
        "# Solution:\n",
        "pyenv local 3.9.13"
      ]
    },
    {
      "cell_type": "markdown",
      "metadata": {
        "id": "VQzBe9MF6pAO"
      },
      "source": [
        "**[1.8]** Initialise poetry project"
      ]
    },
    {
      "cell_type": "code",
      "execution_count": null,
      "metadata": {
        "id": "mxTdxIf46pGB"
      },
      "outputs": [],
      "source": [
        "# Placeholder for student's code (command line)"
      ]
    },
    {
      "cell_type": "code",
      "execution_count": null,
      "metadata": {
        "id": "4hccznxg6pIN"
      },
      "outputs": [],
      "source": [
        "# Solution\n",
        "poetry init"
      ]
    },
    {
      "cell_type": "markdown",
      "metadata": {
        "id": "4Dk-jam55qN2"
      },
      "source": [
        "**[1.9]** Install with poetry the following packages:\n",
        "*   pandas 2.0.1\n",
        "*   sklearn 1.2.2\n",
        "\n"
      ]
    },
    {
      "cell_type": "code",
      "execution_count": null,
      "metadata": {
        "id": "j48Jk5uS5qVe"
      },
      "outputs": [],
      "source": [
        "# Placeholder for student's code (command line)"
      ]
    },
    {
      "cell_type": "code",
      "execution_count": null,
      "metadata": {
        "id": "wTiaeZID5qX1"
      },
      "outputs": [],
      "source": [
        "# Solution\n",
        "poetry add jupyterlab==3.6.3 pandas==2.0.1 scikit-learn==1.2.2"
      ]
    },
    {
      "cell_type": "markdown",
      "metadata": {
        "id": "Toogi1wb5ql6"
      },
      "source": [
        "**[1.10]** Download the dataset into the sub-folder data/raw (https://github.com/aso-uts/labs_datasets/raw/main/36120-adv_mla/lab04/archive.zip)"
      ]
    },
    {
      "cell_type": "code",
      "execution_count": null,
      "metadata": {
        "id": "pBFrdPO95quC"
      },
      "outputs": [],
      "source": [
        "# For Windows users, you can download and install WGET. Or you can manually download the file from the link and save it to specified path\n",
        "wget -P /Users/anthonyso/Projects/adv_mla_2023/adv_mla_lab_4/data/raw https://github.com/aso-uts/labs_datasets/raw/main/36120-adv_mla/lab04/archive.zip"
      ]
    },
    {
      "cell_type": "markdown",
      "metadata": {
        "id": "xYRZxvK16Ueg"
      },
      "source": [
        "**[1.11]** Add you changes to git staging area, commit and push them to Github"
      ]
    },
    {
      "cell_type": "code",
      "execution_count": null,
      "metadata": {
        "id": "fbLlAoao6U2X"
      },
      "outputs": [],
      "source": [
        "# Placeholder for student's code (command line)"
      ]
    },
    {
      "cell_type": "code",
      "execution_count": null,
      "metadata": {
        "id": "dx27qdi26U6V"
      },
      "outputs": [],
      "source": [
        "# Solution:\n",
        "git add .\n",
        "git commit -m \"init\"\n",
        "git push --set-upstream origin master"
      ]
    },
    {
      "cell_type": "markdown",
      "metadata": {
        "id": "KRU2oniT9fSL"
      },
      "source": [
        "**[1.12]** Preventing push to `master` branch"
      ]
    },
    {
      "cell_type": "code",
      "execution_count": null,
      "metadata": {
        "id": "lsx9yZA49jk6"
      },
      "outputs": [],
      "source": [
        "# Placeholder for student's code (command line)"
      ]
    },
    {
      "cell_type": "code",
      "execution_count": null,
      "metadata": {
        "id": "5YYgmuoC9fby"
      },
      "outputs": [],
      "source": [
        "# Solution\n",
        "git config branch.master.pushRemote no_push"
      ]
    },
    {
      "cell_type": "markdown",
      "metadata": {
        "id": "jxQRDLu2C6D4"
      },
      "source": [
        "**[1.13]** Create a new git branch called `data_prep`"
      ]
    },
    {
      "cell_type": "code",
      "execution_count": null,
      "metadata": {
        "id": "y-S-ZdcqdoF7"
      },
      "outputs": [],
      "source": [
        "# Placeholder for student's code (command line)"
      ]
    },
    {
      "cell_type": "code",
      "execution_count": null,
      "metadata": {
        "id": "zBD6K4MXC6rA"
      },
      "outputs": [],
      "source": [
        "# Solution:\n",
        "git checkout -b data_prep"
      ]
    },
    {
      "cell_type": "markdown",
      "metadata": {
        "id": "fVU1mvtW7n9A"
      },
      "source": [
        "**[1.14]** Launch Jupyter Lab from your virtual environment"
      ]
    },
    {
      "cell_type": "code",
      "execution_count": null,
      "metadata": {
        "id": "sdfUZdmq7oCj"
      },
      "outputs": [],
      "source": [
        "# Placeholder for student's code (command line)"
      ]
    },
    {
      "cell_type": "code",
      "execution_count": null,
      "metadata": {
        "id": "80UOi4SE7oFH"
      },
      "outputs": [],
      "source": [
        "#Solution:\n",
        "poetry run jupyter lab"
      ]
    },
    {
      "cell_type": "markdown",
      "metadata": {
        "id": "yTjwF_joDWnE"
      },
      "source": [
        "**[1.15]** Navigate the folder `notebooks` and create a new jupyter notebook called `1_baseline.ipynb`"
      ]
    },
    {
      "cell_type": "markdown",
      "metadata": {
        "id": "_NCwQQFkU3v5"
      },
      "source": [
        "### 2.   Load and Explore Dataset"
      ]
    },
    {
      "cell_type": "markdown",
      "metadata": {
        "id": "U9nXymg9SxjE"
      },
      "source": [
        "**[2.1]** Launch magic commands to automatically reload modules\n",
        "\n"
      ]
    },
    {
      "cell_type": "code",
      "execution_count": null,
      "metadata": {
        "id": "2JdYTLK99dwr"
      },
      "outputs": [],
      "source": [
        "# Placeholder for student's code (Python code)"
      ]
    },
    {
      "cell_type": "code",
      "execution_count": null,
      "metadata": {
        "id": "1fgUxXqsuKZl"
      },
      "outputs": [],
      "source": [
        "# Solution\n",
        "%load_ext autoreload\n",
        "%autoreload 2"
      ]
    },
    {
      "cell_type": "markdown",
      "metadata": {
        "id": "xvi5M4Hb-WvD"
      },
      "source": [
        "**[2.2]** Install your custom package with pip"
      ]
    },
    {
      "cell_type": "code",
      "execution_count": null,
      "metadata": {
        "id": "smOBV3ML-XBj"
      },
      "outputs": [],
      "source": [
        "# Placeholder for student's code (Python code)"
      ]
    },
    {
      "cell_type": "code",
      "execution_count": null,
      "metadata": {
        "id": "7dMCA6Qx-XHp",
        "outputId": "7f940ed8-bd40-4ba5-fdf7-3bbeb85a3565"
      },
      "outputs": [
        {
          "name": "stdout",
          "output_type": "stream",
          "text": [
            "Looking in indexes: https://test.pypi.org/simple/\n",
            "Requirement already satisfied: my-krml-149874 in /Users/anthonyso/.pyenv/versions/3.9.13/lib/python3.9/site-packages (0.1.8)\n",
            "Requirement already satisfied: pandas==2.0.1 in /Users/anthonyso/.pyenv/versions/3.9.13/lib/python3.9/site-packages (from my-krml-149874) (2.0.1)\n",
            "Requirement already satisfied: scikit-learn==1.2.2 in /Users/anthonyso/.pyenv/versions/3.9.13/lib/python3.9/site-packages (from my-krml-149874) (1.2.2)\n",
            "Requirement already satisfied: python-dateutil>=2.8.2 in /Users/anthonyso/.pyenv/versions/3.9.13/lib/python3.9/site-packages (from pandas==2.0.1->my-krml-149874) (2.8.2)\n",
            "Requirement already satisfied: pytz>=2020.1 in /Users/anthonyso/.pyenv/versions/3.9.13/lib/python3.9/site-packages (from pandas==2.0.1->my-krml-149874) (2023.3)\n",
            "Requirement already satisfied: tzdata>=2022.1 in /Users/anthonyso/.pyenv/versions/3.9.13/lib/python3.9/site-packages (from pandas==2.0.1->my-krml-149874) (2023.3)\n",
            "Requirement already satisfied: numpy>=1.20.3 in /Users/anthonyso/.pyenv/versions/3.9.13/lib/python3.9/site-packages (from pandas==2.0.1->my-krml-149874) (1.25.2)\n",
            "Requirement already satisfied: scipy>=1.3.2 in /Users/anthonyso/.pyenv/versions/3.9.13/lib/python3.9/site-packages (from scikit-learn==1.2.2->my-krml-149874) (1.9.3)\n",
            "Requirement already satisfied: joblib>=1.1.1 in /Users/anthonyso/.pyenv/versions/3.9.13/lib/python3.9/site-packages (from scikit-learn==1.2.2->my-krml-149874) (1.3.1)\n",
            "Requirement already satisfied: threadpoolctl>=2.0.0 in /Users/anthonyso/.pyenv/versions/3.9.13/lib/python3.9/site-packages (from scikit-learn==1.2.2->my-krml-149874) (3.2.0)\n",
            "Requirement already satisfied: six>=1.5 in /Users/anthonyso/.pyenv/versions/3.9.13/lib/python3.9/site-packages (from python-dateutil>=2.8.2->pandas==2.0.1->my-krml-149874) (1.16.0)\n",
            "\n",
            "\u001b[1m[\u001b[0m\u001b[34;49mnotice\u001b[0m\u001b[1;39;49m]\u001b[0m\u001b[39;49m A new release of pip is available: \u001b[0m\u001b[31;49m23.1.2\u001b[0m\u001b[39;49m -> \u001b[0m\u001b[32;49m23.2.1\u001b[0m\n",
            "\u001b[1m[\u001b[0m\u001b[34;49mnotice\u001b[0m\u001b[1;39;49m]\u001b[0m\u001b[39;49m To update, run: \u001b[0m\u001b[32;49mpip install --upgrade pip\u001b[0m\n"
          ]
        }
      ],
      "source": [
        "# Solution\n",
        "! pip install -i https://test.pypi.org/simple/ my-krml-149874"
      ]
    },
    {
      "cell_type": "markdown",
      "metadata": {
        "id": "JAIO_Y5Z9_Ay"
      },
      "source": [
        "**[2.3]** Import the pandas and numpy packages"
      ]
    },
    {
      "cell_type": "code",
      "execution_count": null,
      "metadata": {
        "id": "SiroVmhn9_HP"
      },
      "outputs": [],
      "source": [
        "# Placeholder for student's code (Python code)"
      ]
    },
    {
      "cell_type": "code",
      "execution_count": null,
      "metadata": {
        "id": "2VRE9JYD9_Kk"
      },
      "outputs": [],
      "source": [
        "# Solution\n",
        "import pandas as pd\n",
        "import numpy as np"
      ]
    },
    {
      "cell_type": "markdown",
      "metadata": {
        "id": "R-Zy6Oq8pkuB"
      },
      "source": [
        "**[2.4]** Load the dataset into a dataframe called `df`\n"
      ]
    },
    {
      "cell_type": "code",
      "execution_count": null,
      "metadata": {
        "id": "ZresJIasqpgH"
      },
      "outputs": [],
      "source": [
        "# Placeholder for student's code (Python code)"
      ]
    },
    {
      "cell_type": "code",
      "execution_count": null,
      "metadata": {
        "id": "E0BtGR2O1nFY"
      },
      "outputs": [],
      "source": [
        "# Solution:\n",
        "df = pd.read_csv('../data/raw/archive.zip')"
      ]
    },
    {
      "cell_type": "markdown",
      "metadata": {
        "id": "CLyMcoNCsx2k"
      },
      "source": [
        "**[2.5]** Display the first 5 rows of `df`"
      ]
    },
    {
      "cell_type": "code",
      "execution_count": null,
      "metadata": {
        "id": "CJKSOaRPsbuD"
      },
      "outputs": [],
      "source": [
        "# Placeholder for student's code (Python code)"
      ]
    },
    {
      "cell_type": "code",
      "execution_count": null,
      "metadata": {
        "id": "xvnbhiPhs0ZP",
        "outputId": "ad54100b-6d70-4cbf-aba5-4aeb6570eae9"
      },
      "outputs": [
        {
          "data": {
            "text/html": [
              "<div>\n",
              "<style scoped>\n",
              "    .dataframe tbody tr th:only-of-type {\n",
              "        vertical-align: middle;\n",
              "    }\n",
              "\n",
              "    .dataframe tbody tr th {\n",
              "        vertical-align: top;\n",
              "    }\n",
              "\n",
              "    .dataframe thead th {\n",
              "        text-align: right;\n",
              "    }\n",
              "</style>\n",
              "<table border=\"1\" class=\"dataframe\">\n",
              "  <thead>\n",
              "    <tr style=\"text-align: right;\">\n",
              "      <th></th>\n",
              "      <th>General_Health</th>\n",
              "      <th>Checkup</th>\n",
              "      <th>Exercise</th>\n",
              "      <th>Heart_Disease</th>\n",
              "      <th>Skin_Cancer</th>\n",
              "      <th>Other_Cancer</th>\n",
              "      <th>Depression</th>\n",
              "      <th>Diabetes</th>\n",
              "      <th>Arthritis</th>\n",
              "      <th>Sex</th>\n",
              "      <th>Age_Category</th>\n",
              "      <th>Height_(cm)</th>\n",
              "      <th>Weight_(kg)</th>\n",
              "      <th>BMI</th>\n",
              "      <th>Smoking_History</th>\n",
              "      <th>Alcohol_Consumption</th>\n",
              "      <th>Fruit_Consumption</th>\n",
              "      <th>Green_Vegetables_Consumption</th>\n",
              "      <th>FriedPotato_Consumption</th>\n",
              "    </tr>\n",
              "  </thead>\n",
              "  <tbody>\n",
              "    <tr>\n",
              "      <th>0</th>\n",
              "      <td>Poor</td>\n",
              "      <td>Within the past 2 years</td>\n",
              "      <td>No</td>\n",
              "      <td>No</td>\n",
              "      <td>No</td>\n",
              "      <td>No</td>\n",
              "      <td>No</td>\n",
              "      <td>No</td>\n",
              "      <td>Yes</td>\n",
              "      <td>Female</td>\n",
              "      <td>70-74</td>\n",
              "      <td>150.0</td>\n",
              "      <td>32.66</td>\n",
              "      <td>14.54</td>\n",
              "      <td>Yes</td>\n",
              "      <td>0.0</td>\n",
              "      <td>30.0</td>\n",
              "      <td>16.0</td>\n",
              "      <td>12.0</td>\n",
              "    </tr>\n",
              "    <tr>\n",
              "      <th>1</th>\n",
              "      <td>Very Good</td>\n",
              "      <td>Within the past year</td>\n",
              "      <td>No</td>\n",
              "      <td>Yes</td>\n",
              "      <td>No</td>\n",
              "      <td>No</td>\n",
              "      <td>No</td>\n",
              "      <td>Yes</td>\n",
              "      <td>No</td>\n",
              "      <td>Female</td>\n",
              "      <td>70-74</td>\n",
              "      <td>165.0</td>\n",
              "      <td>77.11</td>\n",
              "      <td>28.29</td>\n",
              "      <td>No</td>\n",
              "      <td>0.0</td>\n",
              "      <td>30.0</td>\n",
              "      <td>0.0</td>\n",
              "      <td>4.0</td>\n",
              "    </tr>\n",
              "    <tr>\n",
              "      <th>2</th>\n",
              "      <td>Very Good</td>\n",
              "      <td>Within the past year</td>\n",
              "      <td>Yes</td>\n",
              "      <td>No</td>\n",
              "      <td>No</td>\n",
              "      <td>No</td>\n",
              "      <td>No</td>\n",
              "      <td>Yes</td>\n",
              "      <td>No</td>\n",
              "      <td>Female</td>\n",
              "      <td>60-64</td>\n",
              "      <td>163.0</td>\n",
              "      <td>88.45</td>\n",
              "      <td>33.47</td>\n",
              "      <td>No</td>\n",
              "      <td>4.0</td>\n",
              "      <td>12.0</td>\n",
              "      <td>3.0</td>\n",
              "      <td>16.0</td>\n",
              "    </tr>\n",
              "    <tr>\n",
              "      <th>3</th>\n",
              "      <td>Poor</td>\n",
              "      <td>Within the past year</td>\n",
              "      <td>Yes</td>\n",
              "      <td>Yes</td>\n",
              "      <td>No</td>\n",
              "      <td>No</td>\n",
              "      <td>No</td>\n",
              "      <td>Yes</td>\n",
              "      <td>No</td>\n",
              "      <td>Male</td>\n",
              "      <td>75-79</td>\n",
              "      <td>180.0</td>\n",
              "      <td>93.44</td>\n",
              "      <td>28.73</td>\n",
              "      <td>No</td>\n",
              "      <td>0.0</td>\n",
              "      <td>30.0</td>\n",
              "      <td>30.0</td>\n",
              "      <td>8.0</td>\n",
              "    </tr>\n",
              "    <tr>\n",
              "      <th>4</th>\n",
              "      <td>Good</td>\n",
              "      <td>Within the past year</td>\n",
              "      <td>No</td>\n",
              "      <td>No</td>\n",
              "      <td>No</td>\n",
              "      <td>No</td>\n",
              "      <td>No</td>\n",
              "      <td>No</td>\n",
              "      <td>No</td>\n",
              "      <td>Male</td>\n",
              "      <td>80+</td>\n",
              "      <td>191.0</td>\n",
              "      <td>88.45</td>\n",
              "      <td>24.37</td>\n",
              "      <td>Yes</td>\n",
              "      <td>0.0</td>\n",
              "      <td>8.0</td>\n",
              "      <td>4.0</td>\n",
              "      <td>0.0</td>\n",
              "    </tr>\n",
              "  </tbody>\n",
              "</table>\n",
              "</div>"
            ],
            "text/plain": [
              "  General_Health                  Checkup Exercise Heart_Disease Skin_Cancer   \n",
              "0           Poor  Within the past 2 years       No            No          No  \\\n",
              "1      Very Good     Within the past year       No           Yes          No   \n",
              "2      Very Good     Within the past year      Yes            No          No   \n",
              "3           Poor     Within the past year      Yes           Yes          No   \n",
              "4           Good     Within the past year       No            No          No   \n",
              "\n",
              "  Other_Cancer Depression Diabetes Arthritis     Sex Age_Category   \n",
              "0           No         No       No       Yes  Female        70-74  \\\n",
              "1           No         No      Yes        No  Female        70-74   \n",
              "2           No         No      Yes        No  Female        60-64   \n",
              "3           No         No      Yes        No    Male        75-79   \n",
              "4           No         No       No        No    Male          80+   \n",
              "\n",
              "   Height_(cm)  Weight_(kg)    BMI Smoking_History  Alcohol_Consumption   \n",
              "0        150.0        32.66  14.54             Yes                  0.0  \\\n",
              "1        165.0        77.11  28.29              No                  0.0   \n",
              "2        163.0        88.45  33.47              No                  4.0   \n",
              "3        180.0        93.44  28.73              No                  0.0   \n",
              "4        191.0        88.45  24.37             Yes                  0.0   \n",
              "\n",
              "   Fruit_Consumption  Green_Vegetables_Consumption  FriedPotato_Consumption  \n",
              "0               30.0                          16.0                     12.0  \n",
              "1               30.0                           0.0                      4.0  \n",
              "2               12.0                           3.0                     16.0  \n",
              "3               30.0                          30.0                      8.0  \n",
              "4                8.0                           4.0                      0.0  "
            ]
          },
          "execution_count": 12,
          "metadata": {},
          "output_type": "execute_result"
        }
      ],
      "source": [
        "# Solution\n",
        "df.head()"
      ]
    },
    {
      "cell_type": "markdown",
      "metadata": {
        "id": "gQgeYjQDs12m"
      },
      "source": [
        "**[2.6]** Display the dimensions of `df`\n"
      ]
    },
    {
      "cell_type": "code",
      "execution_count": null,
      "metadata": {
        "id": "dOA7T87hs19l"
      },
      "outputs": [],
      "source": [
        "# Placeholder for student's code (Python code)"
      ]
    },
    {
      "cell_type": "code",
      "execution_count": null,
      "metadata": {
        "id": "Dg_89DlAs1_w",
        "outputId": "16f8c7cc-03a6-4489-aaac-740f33475335"
      },
      "outputs": [
        {
          "data": {
            "text/plain": [
              "(308854, 19)"
            ]
          },
          "execution_count": 14,
          "metadata": {},
          "output_type": "execute_result"
        }
      ],
      "source": [
        "# Solution\n",
        "df.shape"
      ]
    },
    {
      "cell_type": "markdown",
      "metadata": {
        "id": "xyle1PCws7B0"
      },
      "source": [
        "**[2.7]** Display the summary (info) of `df`\n"
      ]
    },
    {
      "cell_type": "code",
      "execution_count": null,
      "metadata": {
        "id": "RrNAGFzxs7JU"
      },
      "outputs": [],
      "source": [
        "# Placeholder for student's code (Python code)"
      ]
    },
    {
      "cell_type": "code",
      "execution_count": null,
      "metadata": {
        "id": "l1msvlh7s7Lt",
        "outputId": "78d736f9-ffa8-41ca-d0a4-8a176b917503"
      },
      "outputs": [
        {
          "name": "stdout",
          "output_type": "stream",
          "text": [
            "<class 'pandas.core.frame.DataFrame'>\n",
            "RangeIndex: 308854 entries, 0 to 308853\n",
            "Data columns (total 19 columns):\n",
            " #   Column                        Non-Null Count   Dtype  \n",
            "---  ------                        --------------   -----  \n",
            " 0   General_Health                308854 non-null  object \n",
            " 1   Checkup                       308854 non-null  object \n",
            " 2   Exercise                      308854 non-null  object \n",
            " 3   Heart_Disease                 308854 non-null  object \n",
            " 4   Skin_Cancer                   308854 non-null  object \n",
            " 5   Other_Cancer                  308854 non-null  object \n",
            " 6   Depression                    308854 non-null  object \n",
            " 7   Diabetes                      308854 non-null  object \n",
            " 8   Arthritis                     308854 non-null  object \n",
            " 9   Sex                           308854 non-null  object \n",
            " 10  Age_Category                  308854 non-null  object \n",
            " 11  Height_(cm)                   308854 non-null  float64\n",
            " 12  Weight_(kg)                   308854 non-null  float64\n",
            " 13  BMI                           308854 non-null  float64\n",
            " 14  Smoking_History               308854 non-null  object \n",
            " 15  Alcohol_Consumption           308854 non-null  float64\n",
            " 16  Fruit_Consumption             308854 non-null  float64\n",
            " 17  Green_Vegetables_Consumption  308854 non-null  float64\n",
            " 18  FriedPotato_Consumption       308854 non-null  float64\n",
            "dtypes: float64(7), object(12)\n",
            "memory usage: 44.8+ MB\n"
          ]
        }
      ],
      "source": [
        "# Solution\n",
        "df.info()"
      ]
    },
    {
      "cell_type": "markdown",
      "metadata": {
        "id": "eWLgqm2YtAgP"
      },
      "source": [
        "**[2.8]** Display the descriptive statistics of `df`\n"
      ]
    },
    {
      "cell_type": "code",
      "execution_count": null,
      "metadata": {
        "id": "2ZnOCCtjtAnj"
      },
      "outputs": [],
      "source": [
        "# Placeholder for student's code (Python code)"
      ]
    },
    {
      "cell_type": "code",
      "execution_count": null,
      "metadata": {
        "id": "FQLSaoXltAp-",
        "outputId": "569b388f-a74e-4835-db05-6d7ec96b2fff"
      },
      "outputs": [
        {
          "data": {
            "text/html": [
              "<div>\n",
              "<style scoped>\n",
              "    .dataframe tbody tr th:only-of-type {\n",
              "        vertical-align: middle;\n",
              "    }\n",
              "\n",
              "    .dataframe tbody tr th {\n",
              "        vertical-align: top;\n",
              "    }\n",
              "\n",
              "    .dataframe thead th {\n",
              "        text-align: right;\n",
              "    }\n",
              "</style>\n",
              "<table border=\"1\" class=\"dataframe\">\n",
              "  <thead>\n",
              "    <tr style=\"text-align: right;\">\n",
              "      <th></th>\n",
              "      <th>Height_(cm)</th>\n",
              "      <th>Weight_(kg)</th>\n",
              "      <th>BMI</th>\n",
              "      <th>Alcohol_Consumption</th>\n",
              "      <th>Fruit_Consumption</th>\n",
              "      <th>Green_Vegetables_Consumption</th>\n",
              "      <th>FriedPotato_Consumption</th>\n",
              "    </tr>\n",
              "  </thead>\n",
              "  <tbody>\n",
              "    <tr>\n",
              "      <th>count</th>\n",
              "      <td>308854.000000</td>\n",
              "      <td>308854.000000</td>\n",
              "      <td>308854.000000</td>\n",
              "      <td>308854.000000</td>\n",
              "      <td>308854.000000</td>\n",
              "      <td>308854.000000</td>\n",
              "      <td>308854.000000</td>\n",
              "    </tr>\n",
              "    <tr>\n",
              "      <th>mean</th>\n",
              "      <td>170.615249</td>\n",
              "      <td>83.588655</td>\n",
              "      <td>28.626211</td>\n",
              "      <td>5.096366</td>\n",
              "      <td>29.835200</td>\n",
              "      <td>15.110441</td>\n",
              "      <td>6.296616</td>\n",
              "    </tr>\n",
              "    <tr>\n",
              "      <th>std</th>\n",
              "      <td>10.658026</td>\n",
              "      <td>21.343210</td>\n",
              "      <td>6.522323</td>\n",
              "      <td>8.199763</td>\n",
              "      <td>24.875735</td>\n",
              "      <td>14.926238</td>\n",
              "      <td>8.582954</td>\n",
              "    </tr>\n",
              "    <tr>\n",
              "      <th>min</th>\n",
              "      <td>91.000000</td>\n",
              "      <td>24.950000</td>\n",
              "      <td>12.020000</td>\n",
              "      <td>0.000000</td>\n",
              "      <td>0.000000</td>\n",
              "      <td>0.000000</td>\n",
              "      <td>0.000000</td>\n",
              "    </tr>\n",
              "    <tr>\n",
              "      <th>25%</th>\n",
              "      <td>163.000000</td>\n",
              "      <td>68.040000</td>\n",
              "      <td>24.210000</td>\n",
              "      <td>0.000000</td>\n",
              "      <td>12.000000</td>\n",
              "      <td>4.000000</td>\n",
              "      <td>2.000000</td>\n",
              "    </tr>\n",
              "    <tr>\n",
              "      <th>50%</th>\n",
              "      <td>170.000000</td>\n",
              "      <td>81.650000</td>\n",
              "      <td>27.440000</td>\n",
              "      <td>1.000000</td>\n",
              "      <td>30.000000</td>\n",
              "      <td>12.000000</td>\n",
              "      <td>4.000000</td>\n",
              "    </tr>\n",
              "    <tr>\n",
              "      <th>75%</th>\n",
              "      <td>178.000000</td>\n",
              "      <td>95.250000</td>\n",
              "      <td>31.850000</td>\n",
              "      <td>6.000000</td>\n",
              "      <td>30.000000</td>\n",
              "      <td>20.000000</td>\n",
              "      <td>8.000000</td>\n",
              "    </tr>\n",
              "    <tr>\n",
              "      <th>max</th>\n",
              "      <td>241.000000</td>\n",
              "      <td>293.020000</td>\n",
              "      <td>99.330000</td>\n",
              "      <td>30.000000</td>\n",
              "      <td>120.000000</td>\n",
              "      <td>128.000000</td>\n",
              "      <td>128.000000</td>\n",
              "    </tr>\n",
              "  </tbody>\n",
              "</table>\n",
              "</div>"
            ],
            "text/plain": [
              "         Height_(cm)    Weight_(kg)            BMI  Alcohol_Consumption   \n",
              "count  308854.000000  308854.000000  308854.000000        308854.000000  \\\n",
              "mean      170.615249      83.588655      28.626211             5.096366   \n",
              "std        10.658026      21.343210       6.522323             8.199763   \n",
              "min        91.000000      24.950000      12.020000             0.000000   \n",
              "25%       163.000000      68.040000      24.210000             0.000000   \n",
              "50%       170.000000      81.650000      27.440000             1.000000   \n",
              "75%       178.000000      95.250000      31.850000             6.000000   \n",
              "max       241.000000     293.020000      99.330000            30.000000   \n",
              "\n",
              "       Fruit_Consumption  Green_Vegetables_Consumption   \n",
              "count      308854.000000                 308854.000000  \\\n",
              "mean           29.835200                     15.110441   \n",
              "std            24.875735                     14.926238   \n",
              "min             0.000000                      0.000000   \n",
              "25%            12.000000                      4.000000   \n",
              "50%            30.000000                     12.000000   \n",
              "75%            30.000000                     20.000000   \n",
              "max           120.000000                    128.000000   \n",
              "\n",
              "       FriedPotato_Consumption  \n",
              "count            308854.000000  \n",
              "mean                  6.296616  \n",
              "std                   8.582954  \n",
              "min                   0.000000  \n",
              "25%                   2.000000  \n",
              "50%                   4.000000  \n",
              "75%                   8.000000  \n",
              "max                 128.000000  "
            ]
          },
          "execution_count": 18,
          "metadata": {},
          "output_type": "execute_result"
        }
      ],
      "source": [
        "# Solution\n",
        "df.describe()"
      ]
    },
    {
      "cell_type": "markdown",
      "metadata": {
        "id": "miQ6SiKlscLx"
      },
      "source": [
        "### 3. Prepare Data"
      ]
    },
    {
      "cell_type": "markdown",
      "metadata": {
        "id": "NtuF1V6ctwn-"
      },
      "source": [
        "**[3.1]** Create a copy of `df` and save it into a variable called `df_cleaned`"
      ]
    },
    {
      "cell_type": "code",
      "execution_count": null,
      "metadata": {
        "id": "Zqaz1C7DtwuU"
      },
      "outputs": [],
      "source": [
        "# Placeholder for student's code (Python code)"
      ]
    },
    {
      "cell_type": "code",
      "execution_count": null,
      "metadata": {
        "id": "HrXR7NCLtwxB"
      },
      "outputs": [],
      "source": [
        "# Solution\n",
        "df_cleaned = df.copy()"
      ]
    },
    {
      "cell_type": "markdown",
      "metadata": {
        "id": "X7DCMLV6TBjr"
      },
      "source": [
        "**[3.2]** Import OneHotEncoder, StandardScaler, OrdinalEncoder from sklearn.preprocessing"
      ]
    },
    {
      "cell_type": "code",
      "execution_count": null,
      "metadata": {
        "id": "KF8jX4Y7TBtB"
      },
      "outputs": [],
      "source": [
        "# Placeholder for student's code (Python code)"
      ]
    },
    {
      "cell_type": "code",
      "execution_count": null,
      "metadata": {
        "id": "ICjW0_-4TBvu"
      },
      "outputs": [],
      "source": [
        "# Solution\n",
        "from sklearn.preprocessing import OneHotEncoder, StandardScaler, OrdinalEncoder"
      ]
    },
    {
      "cell_type": "markdown",
      "metadata": {
        "id": "yvEl7w7GTWfL"
      },
      "source": [
        "**[3.3]** Create a list called `num_cols` that will contain the list of columns that are numeric type"
      ]
    },
    {
      "cell_type": "code",
      "execution_count": null,
      "metadata": {
        "id": "RNU9-pDNTWnA"
      },
      "outputs": [],
      "source": [
        "# Placeholder for student's code (Python code)"
      ]
    },
    {
      "cell_type": "code",
      "execution_count": null,
      "metadata": {
        "id": "Xuo9WuYhTWr4"
      },
      "outputs": [],
      "source": [
        "# Solution\n",
        "num_cols = df_cleaned.select_dtypes(include=['float64']).columns"
      ]
    },
    {
      "cell_type": "markdown",
      "metadata": {
        "id": "m1RrTCBRDybQ"
      },
      "source": [
        "**[3.4]** Create a list called `cat_cols` that will contain the list of columns that are categorical type"
      ]
    },
    {
      "cell_type": "code",
      "execution_count": null,
      "metadata": {
        "id": "wtYjKp_1DyiT"
      },
      "outputs": [],
      "source": [
        "# Placeholder for student's code (Python code)"
      ]
    },
    {
      "cell_type": "code",
      "execution_count": null,
      "metadata": {
        "id": "aezRs9S3Dyl0"
      },
      "outputs": [],
      "source": [
        "# Solution\n",
        "cat_cols = ['Arthritis', 'Depression', 'Diabetes', 'Exercise', 'Other_Cancer', 'Sex', 'Skin_Cancer', 'Smoking_History']"
      ]
    },
    {
      "cell_type": "markdown",
      "metadata": {
        "id": "5pKaCxasERAt"
      },
      "source": [
        "**[3.5]** Instantiate the StandardScaler"
      ]
    },
    {
      "cell_type": "code",
      "execution_count": null,
      "metadata": {
        "id": "QRq0VREg9htV"
      },
      "outputs": [],
      "source": [
        "# Placeholder for student's code (Python code)"
      ]
    },
    {
      "cell_type": "code",
      "execution_count": null,
      "metadata": {
        "id": "yDwCmIXvERJO"
      },
      "outputs": [],
      "source": [
        "# Solution\n",
        "scaler = StandardScaler()"
      ]
    },
    {
      "cell_type": "markdown",
      "metadata": {
        "id": "w2v1vLMWTofp"
      },
      "source": [
        "**[3.6]** Fit and apply the scaling on the numeric columns from `df_cleaned` and convert the results to a dataframe called `num_features`"
      ]
    },
    {
      "cell_type": "code",
      "execution_count": null,
      "metadata": {
        "id": "BcTo7drqTom4"
      },
      "outputs": [],
      "source": [
        "# Placeholder for student's code (Python code)"
      ]
    },
    {
      "cell_type": "code",
      "execution_count": null,
      "metadata": {
        "id": "dfUpbRYSTopS",
        "outputId": "1053384c-c1ed-4a3e-9f22-166cd73ccd7a"
      },
      "outputs": [
        {
          "data": {
            "text/html": [
              "<div>\n",
              "<style scoped>\n",
              "    .dataframe tbody tr th:only-of-type {\n",
              "        vertical-align: middle;\n",
              "    }\n",
              "\n",
              "    .dataframe tbody tr th {\n",
              "        vertical-align: top;\n",
              "    }\n",
              "\n",
              "    .dataframe thead th {\n",
              "        text-align: right;\n",
              "    }\n",
              "</style>\n",
              "<table border=\"1\" class=\"dataframe\">\n",
              "  <thead>\n",
              "    <tr style=\"text-align: right;\">\n",
              "      <th></th>\n",
              "      <th>Height_(cm)</th>\n",
              "      <th>Weight_(kg)</th>\n",
              "      <th>BMI</th>\n",
              "      <th>Alcohol_Consumption</th>\n",
              "      <th>Fruit_Consumption</th>\n",
              "      <th>Green_Vegetables_Consumption</th>\n",
              "      <th>FriedPotato_Consumption</th>\n",
              "    </tr>\n",
              "  </thead>\n",
              "  <tbody>\n",
              "    <tr>\n",
              "      <th>0</th>\n",
              "      <td>-1.934250</td>\n",
              "      <td>-2.386180</td>\n",
              "      <td>-2.159696</td>\n",
              "      <td>-0.621527</td>\n",
              "      <td>0.006625</td>\n",
              "      <td>0.059597</td>\n",
              "      <td>0.664502</td>\n",
              "    </tr>\n",
              "    <tr>\n",
              "      <th>1</th>\n",
              "      <td>-0.526857</td>\n",
              "      <td>-0.303547</td>\n",
              "      <td>-0.051548</td>\n",
              "      <td>-0.621527</td>\n",
              "      <td>0.006625</td>\n",
              "      <td>-1.012342</td>\n",
              "      <td>-0.267579</td>\n",
              "    </tr>\n",
              "    <tr>\n",
              "      <th>2</th>\n",
              "      <td>-0.714510</td>\n",
              "      <td>0.227770</td>\n",
              "      <td>0.742649</td>\n",
              "      <td>-0.133707</td>\n",
              "      <td>-0.716973</td>\n",
              "      <td>-0.811354</td>\n",
              "      <td>1.130543</td>\n",
              "    </tr>\n",
              "    <tr>\n",
              "      <th>3</th>\n",
              "      <td>0.880535</td>\n",
              "      <td>0.461569</td>\n",
              "      <td>0.015913</td>\n",
              "      <td>-0.621527</td>\n",
              "      <td>0.006625</td>\n",
              "      <td>0.997544</td>\n",
              "      <td>0.198462</td>\n",
              "    </tr>\n",
              "    <tr>\n",
              "      <th>4</th>\n",
              "      <td>1.912623</td>\n",
              "      <td>0.227770</td>\n",
              "      <td>-0.652562</td>\n",
              "      <td>-0.621527</td>\n",
              "      <td>-0.877772</td>\n",
              "      <td>-0.744358</td>\n",
              "      <td>-0.733620</td>\n",
              "    </tr>\n",
              "    <tr>\n",
              "      <th>...</th>\n",
              "      <td>...</td>\n",
              "      <td>...</td>\n",
              "      <td>...</td>\n",
              "      <td>...</td>\n",
              "      <td>...</td>\n",
              "      <td>...</td>\n",
              "      <td>...</td>\n",
              "    </tr>\n",
              "    <tr>\n",
              "      <th>308849</th>\n",
              "      <td>-0.245379</td>\n",
              "      <td>-0.090833</td>\n",
              "      <td>0.064975</td>\n",
              "      <td>-0.133707</td>\n",
              "      <td>0.006625</td>\n",
              "      <td>-0.476373</td>\n",
              "      <td>-0.733620</td>\n",
              "    </tr>\n",
              "    <tr>\n",
              "      <th>308850</th>\n",
              "      <td>0.880535</td>\n",
              "      <td>-0.643702</td>\n",
              "      <td>-1.095656</td>\n",
              "      <td>0.354113</td>\n",
              "      <td>-0.596373</td>\n",
              "      <td>3.007431</td>\n",
              "      <td>-0.267579</td>\n",
              "    </tr>\n",
              "    <tr>\n",
              "      <th>308851</th>\n",
              "      <td>-1.277466</td>\n",
              "      <td>-1.047579</td>\n",
              "      <td>-0.603499</td>\n",
              "      <td>-0.133707</td>\n",
              "      <td>0.408624</td>\n",
              "      <td>-0.476373</td>\n",
              "      <td>-0.267579</td>\n",
              "    </tr>\n",
              "    <tr>\n",
              "      <th>308852</th>\n",
              "      <td>1.162014</td>\n",
              "      <td>-0.197190</td>\n",
              "      <td>-0.750686</td>\n",
              "      <td>-0.255662</td>\n",
              "      <td>0.006625</td>\n",
              "      <td>-0.208388</td>\n",
              "      <td>-0.733620</td>\n",
              "    </tr>\n",
              "    <tr>\n",
              "      <th>308853</th>\n",
              "      <td>-0.995988</td>\n",
              "      <td>-0.112385</td>\n",
              "      <td>0.472806</td>\n",
              "      <td>-0.499572</td>\n",
              "      <td>-0.998372</td>\n",
              "      <td>-0.208388</td>\n",
              "      <td>-0.617110</td>\n",
              "    </tr>\n",
              "  </tbody>\n",
              "</table>\n",
              "<p>308854 rows × 7 columns</p>\n",
              "</div>"
            ],
            "text/plain": [
              "        Height_(cm)  Weight_(kg)       BMI  Alcohol_Consumption   \n",
              "0         -1.934250    -2.386180 -2.159696            -0.621527  \\\n",
              "1         -0.526857    -0.303547 -0.051548            -0.621527   \n",
              "2         -0.714510     0.227770  0.742649            -0.133707   \n",
              "3          0.880535     0.461569  0.015913            -0.621527   \n",
              "4          1.912623     0.227770 -0.652562            -0.621527   \n",
              "...             ...          ...       ...                  ...   \n",
              "308849    -0.245379    -0.090833  0.064975            -0.133707   \n",
              "308850     0.880535    -0.643702 -1.095656             0.354113   \n",
              "308851    -1.277466    -1.047579 -0.603499            -0.133707   \n",
              "308852     1.162014    -0.197190 -0.750686            -0.255662   \n",
              "308853    -0.995988    -0.112385  0.472806            -0.499572   \n",
              "\n",
              "        Fruit_Consumption  Green_Vegetables_Consumption   \n",
              "0                0.006625                      0.059597  \\\n",
              "1                0.006625                     -1.012342   \n",
              "2               -0.716973                     -0.811354   \n",
              "3                0.006625                      0.997544   \n",
              "4               -0.877772                     -0.744358   \n",
              "...                   ...                           ...   \n",
              "308849           0.006625                     -0.476373   \n",
              "308850          -0.596373                      3.007431   \n",
              "308851           0.408624                     -0.476373   \n",
              "308852           0.006625                     -0.208388   \n",
              "308853          -0.998372                     -0.208388   \n",
              "\n",
              "        FriedPotato_Consumption  \n",
              "0                      0.664502  \n",
              "1                     -0.267579  \n",
              "2                      1.130543  \n",
              "3                      0.198462  \n",
              "4                     -0.733620  \n",
              "...                         ...  \n",
              "308849                -0.733620  \n",
              "308850                -0.267579  \n",
              "308851                -0.267579  \n",
              "308852                -0.733620  \n",
              "308853                -0.617110  \n",
              "\n",
              "[308854 rows x 7 columns]"
            ]
          },
          "execution_count": 116,
          "metadata": {},
          "output_type": "execute_result"
        }
      ],
      "source": [
        "# Solution\n",
        "num_features = pd.DataFrame(scaler.fit_transform(df_cleaned[num_cols]), columns=df_cleaned[num_cols].columns)"
      ]
    },
    {
      "cell_type": "markdown",
      "metadata": {
        "id": "8c3jyTf9JTGf"
      },
      "source": [
        "**[3.7]** Instantiate the OneHotEncoder"
      ]
    },
    {
      "cell_type": "code",
      "execution_count": null,
      "metadata": {
        "id": "wPsiHDkuJTRA"
      },
      "outputs": [],
      "source": [
        "# Placeholder for student's code (Python code)"
      ]
    },
    {
      "cell_type": "code",
      "execution_count": null,
      "metadata": {
        "id": "RHaBJGkWJTUA"
      },
      "outputs": [],
      "source": [
        "# Solution\n",
        "ohe = OneHotEncoder(sparse_output=False, drop='first')"
      ]
    },
    {
      "cell_type": "markdown",
      "metadata": {
        "id": "22kfzcjLJXV1"
      },
      "source": [
        "**[3.8]** Fit and apply the OneHotEncoder on the categorical columns from `df_cleaned` and save the result in `cat_features`"
      ]
    },
    {
      "cell_type": "code",
      "execution_count": null,
      "metadata": {
        "id": "5yQfFy0jJXbX"
      },
      "outputs": [],
      "source": [
        "# Placeholder for student's code (Python code)"
      ]
    },
    {
      "cell_type": "code",
      "execution_count": null,
      "metadata": {
        "id": "DG9BxldgJXeT"
      },
      "outputs": [],
      "source": [
        "# Solution\n",
        "cat_features = ohe.fit_transform(df_cleaned[cat_cols])"
      ]
    },
    {
      "cell_type": "markdown",
      "metadata": {
        "id": "VuDaGhxPJ3Ph"
      },
      "source": [
        "**[3.9]** Convert `cat_features` into a dataframe"
      ]
    },
    {
      "cell_type": "code",
      "execution_count": null,
      "metadata": {
        "id": "KzOssNDcJ3VO"
      },
      "outputs": [],
      "source": [
        "# Placeholder for student's code (Python code)"
      ]
    },
    {
      "cell_type": "code",
      "execution_count": null,
      "metadata": {
        "id": "2EsbDqE6J3Xn"
      },
      "outputs": [],
      "source": [
        "# Solution\n",
        "cat_features = pd.DataFrame(cat_features, columns=ohe.get_feature_names_out())"
      ]
    },
    {
      "cell_type": "markdown",
      "metadata": {
        "id": "lt8YYcHuTsDs"
      },
      "source": [
        "**[3.10]** Instantiate an OrdinalEncoder on the column `Age_Category`.  Then fit and apply the transformation on this column and save the result in dataframe called `ord_age_feature`"
      ]
    },
    {
      "cell_type": "code",
      "execution_count": null,
      "metadata": {
        "id": "0Fs5Lt8jTsLK"
      },
      "outputs": [],
      "source": [
        "# Placeholder for student's code (Python code)"
      ]
    },
    {
      "cell_type": "code",
      "execution_count": null,
      "metadata": {
        "id": "z6isEtGBTsNz"
      },
      "outputs": [],
      "source": [
        "# Solution\n",
        "age_ord = OrdinalEncoder()\n",
        "ord_age_feature = age_ord.fit_transform(df_cleaned[['Age_Category']])\n",
        "ord_age_feature = pd.DataFrame(ord_age_feature, columns=['Age_Category'])"
      ]
    },
    {
      "cell_type": "markdown",
      "metadata": {
        "id": "ruXvMIbwTt8E"
      },
      "source": [
        "**[3.11]** Instantiate an OrdinalEncoder on the column `General_Health`.  Then fit and apply the transformation on this column and save the result in dataframe called `ord_health_feature`"
      ]
    },
    {
      "cell_type": "code",
      "execution_count": null,
      "metadata": {
        "id": "fz6_BQaLTuEC"
      },
      "outputs": [],
      "source": [
        "# Placeholder for student's code (Python code)"
      ]
    },
    {
      "cell_type": "code",
      "execution_count": null,
      "metadata": {
        "id": "kDpsPAW0TuGg"
      },
      "outputs": [],
      "source": [
        "# Solution\n",
        "health_ord = OrdinalEncoder(categories=[['Poor','Fair','Good','Very Good','Excellent']])\n",
        "ord_health_feature = health_ord.fit_transform(df_cleaned[['General_Health']])\n",
        "ord_health_feature = pd.DataFrame(ord_health_feature, columns=['General_Health'])"
      ]
    },
    {
      "cell_type": "markdown",
      "metadata": {
        "id": "qFGEj92zZKUX"
      },
      "source": [
        "**[3.12]** Instantiate an OrdinalEncoder on the column `Checkup`.  Then fit and apply the transformation on this column and save the result in dataframe called `ord_checkup_feature`"
      ]
    },
    {
      "cell_type": "code",
      "execution_count": null,
      "metadata": {
        "id": "hiwxa2PLZKb6"
      },
      "outputs": [],
      "source": [
        "# Placeholder for student's code (Python code)"
      ]
    },
    {
      "cell_type": "code",
      "execution_count": null,
      "metadata": {
        "id": "HMSXXBBOZKfP"
      },
      "outputs": [],
      "source": [
        "# Solution\n",
        "checkup_ord = OrdinalEncoder(categories=[['Within the past year','Within the past 2 years','Within the past 5 years','5 or more years ago','Never']])\n",
        "ord_checkup_feature = checkup_ord.fit_transform(df_cleaned[['Checkup']])\n",
        "ord_checkup_feature = pd.DataFrame(ord_checkup_feature, columns=['Checkup'])"
      ]
    },
    {
      "cell_type": "markdown",
      "metadata": {
        "id": "DJSHphplGgjd"
      },
      "source": [
        "**[3.13]** Combine all the transformed features into `features`"
      ]
    },
    {
      "cell_type": "code",
      "execution_count": null,
      "metadata": {
        "id": "y6_edJpBGgpk"
      },
      "outputs": [],
      "source": [
        "# Placeholder for student's code (Python code)"
      ]
    },
    {
      "cell_type": "code",
      "execution_count": null,
      "metadata": {
        "id": "B4p4isj8Ggr4"
      },
      "outputs": [],
      "source": [
        "# Solution\n",
        "features = num_features.copy()\n",
        "features[ohe.get_feature_names_out()] = cat_features[ohe.get_feature_names_out()]\n",
        "features['Age_Category'] = ord_age_feature['Age_Category']\n",
        "features['General_Health'] = ord_health_feature['General_Health']\n",
        "features['Checkup'] = ord_checkup_feature['Checkup']"
      ]
    },
    {
      "cell_type": "markdown",
      "metadata": {
        "id": "sXQCEL7aG0jp"
      },
      "source": [
        "**[3.14]** Save the prepared dataframe in the `data/interim` folder"
      ]
    },
    {
      "cell_type": "code",
      "execution_count": null,
      "metadata": {
        "id": "-WchTrcJG0qG"
      },
      "outputs": [],
      "source": [
        "# Placeholder for student's code (Python code)"
      ]
    },
    {
      "cell_type": "code",
      "execution_count": null,
      "metadata": {
        "id": "yFkJXP3oG02H"
      },
      "outputs": [],
      "source": [
        "# Solution\n",
        "features.to_csv('../data/interim/dataset_prepared.csv', index=False)"
      ]
    },
    {
      "cell_type": "markdown",
      "metadata": {
        "id": "8kzSm3gGUaHB"
      },
      "source": [
        "**[3.15]** Import dump from joblib"
      ]
    },
    {
      "cell_type": "code",
      "execution_count": null,
      "metadata": {
        "id": "VGenpx3QUaMQ"
      },
      "outputs": [],
      "source": [
        "# Placeholder for student's code (Python code)"
      ]
    },
    {
      "cell_type": "code",
      "execution_count": null,
      "metadata": {
        "id": "2cAGo-OTUaPm"
      },
      "outputs": [],
      "source": [
        "# Solution:\n",
        "from joblib import dump"
      ]
    },
    {
      "cell_type": "markdown",
      "metadata": {
        "id": "QzSQbsooUfKR"
      },
      "source": [
        "**[3.16]** Save all the sklearn transformers"
      ]
    },
    {
      "cell_type": "code",
      "execution_count": null,
      "metadata": {
        "id": "Ipgcn6L0UfPU"
      },
      "outputs": [],
      "source": [
        "# Placeholder for student's code (Python code)"
      ]
    },
    {
      "cell_type": "code",
      "execution_count": null,
      "metadata": {
        "id": "bMHwMruUUfR0",
        "outputId": "cce0fe74-5c07-42e1-eff7-5afc310d5973"
      },
      "outputs": [
        {
          "data": {
            "text/plain": [
              "['../models/checkup_ord.joblib']"
            ]
          },
          "execution_count": 121,
          "metadata": {},
          "output_type": "execute_result"
        }
      ],
      "source": [
        "# Solution:\n",
        "dump(scaler, '../models/scaler.joblib')\n",
        "dump(ohe, '../models/ohe.joblib')\n",
        "dump(age_ord, '../models/age_ord.joblib')\n",
        "dump(health_ord, '../models/health_ord.joblib')\n",
        "dump(checkup_ord, '../models/checkup_ord.joblib')"
      ]
    },
    {
      "cell_type": "markdown",
      "metadata": {
        "id": "BTKw3_sOcZVZ"
      },
      "source": [
        "**[3.17]** Convert the values of `Heart_Disease` into numerical type and save the results in a variable called `target`"
      ]
    },
    {
      "cell_type": "code",
      "execution_count": null,
      "metadata": {
        "id": "Aar3hXwzcZVZ"
      },
      "outputs": [],
      "source": [
        "# Placeholder for student's code (Python code)"
      ]
    },
    {
      "cell_type": "code",
      "execution_count": null,
      "metadata": {
        "tags": [],
        "id": "74R926RVcZVZ"
      },
      "outputs": [],
      "source": [
        "target = df_cleaned['Heart_Disease'].map({'Yes': 1, 'No': 0})"
      ]
    },
    {
      "cell_type": "markdown",
      "metadata": {
        "id": "N8MNBrC4Zgz6"
      },
      "source": [
        "### 4. Split Dataset"
      ]
    },
    {
      "cell_type": "markdown",
      "metadata": {
        "id": "sJNZfvA4dJ9X"
      },
      "source": [
        "**[4.1]** Import the function `split_sets_random` from your custom package and split the data into several sets as Numpy arrays"
      ]
    },
    {
      "cell_type": "code",
      "execution_count": null,
      "metadata": {
        "id": "Rdui0TivdKGE"
      },
      "outputs": [],
      "source": [
        "# Placeholder for student's code (Python code)"
      ]
    },
    {
      "cell_type": "code",
      "execution_count": null,
      "metadata": {
        "id": "fev4FWAYdU1G"
      },
      "outputs": [],
      "source": [
        "# Solution\n",
        "from my_krml_149874.data.sets import split_sets_random\n",
        "\n",
        "X_train, y_train, X_val, y_val, X_test, y_test = split_sets_random(features, target, test_ratio=0.2)"
      ]
    },
    {
      "cell_type": "markdown",
      "metadata": {
        "id": "4z3CpwGbd4Fi"
      },
      "source": [
        "**[4.2]** Import the function `save_sets` from your custom package and save the sets into the folder `data/processed`"
      ]
    },
    {
      "cell_type": "code",
      "execution_count": null,
      "metadata": {
        "id": "aNuLNsVyd4M2"
      },
      "outputs": [],
      "source": [
        "# Placeholder for student's code (Python code)"
      ]
    },
    {
      "cell_type": "code",
      "execution_count": null,
      "metadata": {
        "id": "Mpr1RQkLd4PS"
      },
      "outputs": [],
      "source": [
        "# Solution\n",
        "from my_krml_149874.data.sets import save_sets\n",
        "\n",
        "save_sets(X_train, y_train, X_val, y_val, X_test, y_test, path='../data/processed/')"
      ]
    },
    {
      "cell_type": "markdown",
      "metadata": {
        "id": "JUEbyrm2ZzhL"
      },
      "source": [
        "### 5. Baseline Model"
      ]
    },
    {
      "cell_type": "markdown",
      "metadata": {
        "id": "faMubeDzZzuX"
      },
      "source": [
        "**[5.1]** Import the `NullClassifier` class from your custom package"
      ]
    },
    {
      "cell_type": "code",
      "execution_count": null,
      "metadata": {
        "id": "KSrYPUCPZz1u"
      },
      "outputs": [],
      "source": [
        "# Placeholder for student's code (Python code)"
      ]
    },
    {
      "cell_type": "code",
      "execution_count": null,
      "metadata": {
        "id": "vBSoR7LTZz3-"
      },
      "outputs": [],
      "source": [
        "# Solution:\n",
        "from my_krml_149874.models.null import NullClassifier"
      ]
    },
    {
      "cell_type": "markdown",
      "metadata": {
        "id": "mVnjvNeHpCjC"
      },
      "source": [
        "**[5.2]** Instantiate a `NullClassifier` and save it into a variable called `base_model`"
      ]
    },
    {
      "cell_type": "code",
      "execution_count": null,
      "metadata": {
        "id": "yLdpzmGepCr7"
      },
      "outputs": [],
      "source": [
        "# Placeholder for student's code (Python code)"
      ]
    },
    {
      "cell_type": "code",
      "execution_count": null,
      "metadata": {
        "id": "7iuqH-OKpCx0"
      },
      "outputs": [],
      "source": [
        "# Solution:\n",
        "base_model = NullClassifier()"
      ]
    },
    {
      "cell_type": "markdown",
      "metadata": {
        "id": "jXG-miufpSm_"
      },
      "source": [
        "**[5.3]** Make a prediction using `fit_predict()` and save the results in a variable called `y_base`"
      ]
    },
    {
      "cell_type": "code",
      "execution_count": null,
      "metadata": {
        "id": "EtBMkIV2pSzM"
      },
      "outputs": [],
      "source": [
        "# Placeholder for student's code (Python code)"
      ]
    },
    {
      "cell_type": "code",
      "execution_count": null,
      "metadata": {
        "id": "X9qQmoXLpS5K",
        "outputId": "f95eb973-66e6-4c20-b3f8-21b4044bec1c"
      },
      "outputs": [
        {
          "name": "stderr",
          "output_type": "stream",
          "text": [
            "/Users/anthonyso/.pyenv/versions/3.9.13/lib/python3.9/site-packages/my_krml_149874/models/null.py:80: FutureWarning: Unlike other reduction functions (e.g. `skew`, `kurtosis`), the default behavior of `mode` typically preserves the axis it acts along. In SciPy 1.11.0, this behavior will change: the default value of `keepdims` will become False, the `axis` over which the statistic is taken will be eliminated, and the value None will no longer be accepted. Set `keepdims` to True or False to avoid this warning.\n",
            "  self.pred_value = mode(y)[0][0]\n"
          ]
        }
      ],
      "source": [
        "# Solution:\n",
        "y_base = base_model.fit_predict(y_train)"
      ]
    },
    {
      "cell_type": "markdown",
      "metadata": {
        "id": "ekaUYYjqgfcF"
      },
      "source": [
        "**[5.4]** Import the function `print_classifier_scores` from your custom package and display the Accuracy and F1 scores of this baseline model on the training set"
      ]
    },
    {
      "cell_type": "code",
      "execution_count": null,
      "metadata": {
        "id": "hSzb5ZsYgfhf"
      },
      "outputs": [],
      "source": [
        "# Placeholder for student's code (Python code)"
      ]
    },
    {
      "cell_type": "code",
      "execution_count": null,
      "metadata": {
        "id": "h8Jmfhk0MQ0i",
        "outputId": "ae9ab92c-161d-4f21-dec9-186274045cdb"
      },
      "outputs": [
        {
          "name": "stdout",
          "output_type": "stream",
          "text": [
            "Accuracy Training: 0.9196112502158522\n",
            "F1 Training: 0.0\n"
          ]
        }
      ],
      "source": [
        "from my_krml_149874.models.performance import print_classifier_scores\n",
        "\n",
        "print_classifier_scores(y_preds=y_base, y_actuals=y_train, set_name='Training')"
      ]
    },
    {
      "cell_type": "markdown",
      "metadata": {
        "id": "bj-nBeZdYw-B"
      },
      "source": [
        "### 6. Train SGD"
      ]
    },
    {
      "cell_type": "markdown",
      "metadata": {
        "id": "tDulWorlY9ZV"
      },
      "source": [
        "**[6.1]** Import SGDClassifier from sklearn.linear_model"
      ]
    },
    {
      "cell_type": "code",
      "execution_count": null,
      "metadata": {
        "id": "dCxesCkkYxGo"
      },
      "outputs": [],
      "source": [
        "# Placeholder for student's code (Python code)"
      ]
    },
    {
      "cell_type": "code",
      "execution_count": null,
      "metadata": {
        "id": "6FykNdP0YxJe"
      },
      "outputs": [],
      "source": [
        "from sklearn.linear_model import SGDClassifier"
      ]
    },
    {
      "cell_type": "markdown",
      "metadata": {
        "id": "4-i6RvOMY_O0"
      },
      "source": [
        "**[6.2]** Instantiate the SGDClassifier"
      ]
    },
    {
      "cell_type": "code",
      "execution_count": null,
      "metadata": {
        "id": "udavBTNcY_Uh"
      },
      "outputs": [],
      "source": [
        "# Placeholder for student's code (Python code)"
      ]
    },
    {
      "cell_type": "code",
      "execution_count": null,
      "metadata": {
        "id": "eyJ2WTpCY_W-"
      },
      "outputs": [],
      "source": [
        "model = SGDClassifier(loss='log_loss', penalty='elasticnet', max_iter=100000, early_stopping=True, random_state=42)"
      ]
    },
    {
      "cell_type": "markdown",
      "metadata": {
        "id": "Tv85hd5UZALp"
      },
      "source": [
        "**[6.3]** Import the function `fit_assess_classifier` from your custom package"
      ]
    },
    {
      "cell_type": "code",
      "execution_count": null,
      "metadata": {
        "id": "IcncsAZNZARy"
      },
      "outputs": [],
      "source": [
        "# Placeholder for student's code (Python code)"
      ]
    },
    {
      "cell_type": "code",
      "execution_count": null,
      "metadata": {
        "id": "PDs9rvBzZAUq"
      },
      "outputs": [],
      "source": [
        "# Solution\n",
        "from my_krml_149874.models.performance import fit_assess_classifier"
      ]
    },
    {
      "cell_type": "markdown",
      "metadata": {
        "id": "MD66BoGxZBN9"
      },
      "source": [
        "**[6.4]** Fit the model and display its performance on the training and validation sets"
      ]
    },
    {
      "cell_type": "code",
      "execution_count": null,
      "metadata": {
        "id": "Y8RN9U6zZBT9"
      },
      "outputs": [],
      "source": [
        "# Placeholder for student's code (Python code)"
      ]
    },
    {
      "cell_type": "code",
      "execution_count": null,
      "metadata": {
        "id": "__Gnh5TPZBWu",
        "outputId": "ecb7cd57-2051-4be6-f74e-cbe654ad4bce"
      },
      "outputs": [
        {
          "name": "stdout",
          "output_type": "stream",
          "text": [
            "Accuracy Training: 0.9073184683128993\n",
            "F1 Training: 0.3056959210898654\n",
            "Accuracy Validation: 0.905845785239028\n",
            "F1 Validation: 0.2992771084337349\n"
          ]
        }
      ],
      "source": [
        "# Solution\n",
        "model = fit_assess_classifier(model, X_train, y_train, X_val, y_val)"
      ]
    },
    {
      "cell_type": "markdown",
      "metadata": {
        "id": "P4Uw5h4AasAG"
      },
      "source": [
        "**[6.5]** Import `dump` from `joblib` and save the fitted model into the folder `models` as a file called `xgboost_default`"
      ]
    },
    {
      "cell_type": "code",
      "execution_count": null,
      "metadata": {
        "id": "oASOZtRoatWT"
      },
      "outputs": [],
      "source": [
        "# Placeholder for student's code (Python code)"
      ]
    },
    {
      "cell_type": "code",
      "execution_count": null,
      "metadata": {
        "id": "HuhIBBhcathL",
        "tags": [],
        "outputId": "564a5c7c-6d56-417b-e25f-bf410215e99a"
      },
      "outputs": [
        {
          "data": {
            "text/plain": [
              "['../models/sgd.joblib']"
            ]
          },
          "execution_count": 151,
          "metadata": {},
          "output_type": "execute_result"
        }
      ],
      "source": [
        "# Solution:\n",
        "from joblib import dump\n",
        "\n",
        "dump(model,  '../models/sgd.joblib')"
      ]
    },
    {
      "cell_type": "markdown",
      "metadata": {
        "id": "1yX0Ocg4hcZM"
      },
      "source": [
        "### 7.   Push changes"
      ]
    },
    {
      "cell_type": "markdown",
      "metadata": {
        "id": "3guOKU9gjrmp"
      },
      "source": [
        "**[7.1]** Add you changes to git staging area"
      ]
    },
    {
      "cell_type": "code",
      "execution_count": null,
      "metadata": {
        "id": "lKuRNeqAj0ym"
      },
      "outputs": [],
      "source": [
        "# Placeholder for student's code (command line)"
      ]
    },
    {
      "cell_type": "code",
      "execution_count": null,
      "metadata": {
        "id": "axcj-jS0jruy"
      },
      "outputs": [],
      "source": [
        "# Solution:\n",
        "git add ."
      ]
    },
    {
      "cell_type": "markdown",
      "metadata": {
        "id": "6nUK2dp_j67X"
      },
      "source": [
        "**[7.2]** Create the snapshot of your repository and add a description"
      ]
    },
    {
      "cell_type": "code",
      "execution_count": null,
      "metadata": {
        "id": "1-M-aS-Ij7EE"
      },
      "outputs": [],
      "source": [
        "# Placeholder for student's code (command line)"
      ]
    },
    {
      "cell_type": "code",
      "execution_count": null,
      "metadata": {
        "id": "zovhzXRxj7Il"
      },
      "outputs": [],
      "source": [
        "# Solution:\n",
        "git commit -m \"data prep\""
      ]
    },
    {
      "cell_type": "markdown",
      "metadata": {
        "id": "Y9FciIQZj7nX"
      },
      "source": [
        "**[7.3]** Push your snapshot to Github"
      ]
    },
    {
      "cell_type": "code",
      "execution_count": null,
      "metadata": {
        "id": "IR7i6D5hj7uO"
      },
      "outputs": [],
      "source": [
        "# Placeholder for student's code (command line)"
      ]
    },
    {
      "cell_type": "code",
      "execution_count": null,
      "metadata": {
        "id": "WaVAgJ4Aj7wi"
      },
      "outputs": [],
      "source": [
        "# Solution:\n",
        "git push"
      ]
    },
    {
      "cell_type": "markdown",
      "metadata": {
        "id": "8B98cSvWkB-x"
      },
      "source": [
        "**[7.4]** Go to Github and merge the branch after reviewing the code and fixing any conflict\n",
        "\n",
        "\n"
      ]
    },
    {
      "cell_type": "markdown",
      "metadata": {
        "id": "d7a6bwMniAs1"
      },
      "source": [
        "**[7.5]** Check out to the master branch"
      ]
    },
    {
      "cell_type": "code",
      "execution_count": null,
      "metadata": {
        "id": "eM9v_33XiA1I"
      },
      "outputs": [],
      "source": [
        "# Placeholder for student's code (command line)"
      ]
    },
    {
      "cell_type": "code",
      "execution_count": null,
      "metadata": {
        "id": "d6-AI0x7iA4M"
      },
      "outputs": [],
      "source": [
        "# Solution:\n",
        "git checkout master"
      ]
    },
    {
      "cell_type": "markdown",
      "metadata": {
        "id": "v98Ka9kNiBLw"
      },
      "source": [
        "**[7.6]** Pull the latest updates"
      ]
    },
    {
      "cell_type": "code",
      "execution_count": null,
      "metadata": {
        "id": "yNZb1PyEjIOP"
      },
      "outputs": [],
      "source": [
        "# Placeholder for student's code (command line)"
      ]
    },
    {
      "cell_type": "code",
      "execution_count": null,
      "metadata": {
        "id": "5TJAEYxPjIRS"
      },
      "outputs": [],
      "source": [
        "# Solution:\n",
        "git pull"
      ]
    }
  ],
  "metadata": {
    "colab": {
      "provenance": []
    },
    "kernelspec": {
      "display_name": "Python 3 (ipykernel)",
      "language": "python",
      "name": "python3"
    },
    "language_info": {
      "codemirror_mode": {
        "name": "ipython",
        "version": 3
      },
      "file_extension": ".py",
      "mimetype": "text/x-python",
      "name": "python",
      "nbconvert_exporter": "python",
      "pygments_lexer": "ipython3",
      "version": "3.9.13"
    }
  },
  "nbformat": 4,
  "nbformat_minor": 0
}